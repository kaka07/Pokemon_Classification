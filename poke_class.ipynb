{
 "cells": [
  {
   "cell_type": "code",
   "execution_count": 38,
   "metadata": {},
   "outputs": [],
   "source": [
    "import numpy as np\n",
    "import pandas as pd\n",
    "import matplotlib.pyplot as plt\n",
    "import cv2"
   ]
  },
  {
   "cell_type": "code",
   "execution_count": 39,
   "metadata": {},
   "outputs": [],
   "source": [
    "plt.style.use('seaborn')"
   ]
  },
  {
   "cell_type": "code",
   "execution_count": 40,
   "metadata": {},
   "outputs": [],
   "source": [
    "data=pd.read_csv('train.csv')\n",
    "df=np.array(data)"
   ]
  },
  {
   "cell_type": "code",
   "execution_count": 41,
   "metadata": {},
   "outputs": [
    {
     "name": "stdout",
     "output_type": "stream",
     "text": [
      "304\n"
     ]
    }
   ],
   "source": [
    "labels=[]\n",
    "m=df.shape[0]\n",
    "print(m)\n",
    "for i in range(m):\n",
    "    labels.append(df[i][1])\n",
    "#print(labels)"
   ]
  },
  {
   "cell_type": "code",
   "execution_count": 42,
   "metadata": {},
   "outputs": [],
   "source": [
    "datapath='Images/'\n",
    "def create_data(df):\n",
    "    m=df.shape[0]\n",
    "    X=[]\n",
    "    for i in range(m):\n",
    "       # print(datapath+df[i][0])\n",
    "        img=cv2.imread(datapath+df[i][0])\n",
    "        img=cv2.resize(img,(300,300))\n",
    "        X.append(img)\n",
    "    return X"
   ]
  },
  {
   "cell_type": "code",
   "execution_count": 43,
   "metadata": {},
   "outputs": [],
   "source": [
    "X=create_data(df)"
   ]
  },
  {
   "cell_type": "code",
   "execution_count": 44,
   "metadata": {},
   "outputs": [
    {
     "name": "stdout",
     "output_type": "stream",
     "text": [
      "(304, 300, 300, 3)\n"
     ]
    }
   ],
   "source": [
    "X=np.array(X)\n",
    "print(X.shape)"
   ]
  },
  {
   "cell_type": "code",
   "execution_count": 45,
   "metadata": {},
   "outputs": [],
   "source": [
    "X=X.reshape((X.shape[0],-1))"
   ]
  },
  {
   "cell_type": "code",
   "execution_count": 46,
   "metadata": {},
   "outputs": [
    {
     "name": "stdout",
     "output_type": "stream",
     "text": [
      "(304, 270000)\n"
     ]
    }
   ],
   "source": [
    "print(X.shape)"
   ]
  },
  {
   "cell_type": "code",
   "execution_count": 47,
   "metadata": {},
   "outputs": [],
   "source": [
    "def normalize(X):\n",
    "    m=X.shape[0]\n",
    "    for i in range(m):\n",
    "        u=np.mean(X[i])\n",
    "        sigma=np.std(X[i])\n",
    "        X[i]=(X[i]-u)/sigma\n",
    "    return X"
   ]
  },
  {
   "cell_type": "code",
   "execution_count": 48,
   "metadata": {},
   "outputs": [],
   "source": [
    "X=normalize(X)"
   ]
  },
  {
   "cell_type": "code",
   "execution_count": 49,
   "metadata": {},
   "outputs": [
    {
     "name": "stdout",
     "output_type": "stream",
     "text": [
      "[[  1   0   0 ...   0   0 255]\n",
      " [  0   0   0 ...   0   0   0]\n",
      " [  0   0   0 ...   0   0   0]\n",
      " ...\n",
      " [  0   0   0 ...   0   0   0]\n",
      " [  0   0   0 ...   0   0   0]\n",
      " [  0   0   0 ...   0   0   0]]\n"
     ]
    }
   ],
   "source": [
    "print(X)"
   ]
  },
  {
   "cell_type": "code",
   "execution_count": 50,
   "metadata": {},
   "outputs": [],
   "source": [
    "from sklearn import svm"
   ]
  },
  {
   "cell_type": "code",
   "execution_count": 51,
   "metadata": {},
   "outputs": [],
   "source": [
    "svm_classifier=svm.SVC(kernel='linear',C=1.0)"
   ]
  },
  {
   "cell_type": "code",
   "execution_count": 52,
   "metadata": {},
   "outputs": [
    {
     "data": {
      "text/plain": [
       "1.0"
      ]
     },
     "execution_count": 52,
     "metadata": {},
     "output_type": "execute_result"
    }
   ],
   "source": [
    "svm_classifier.fit(X,labels)\n",
    "svm_classifier.score(X,labels)"
   ]
  },
  {
   "cell_type": "code",
   "execution_count": 53,
   "metadata": {},
   "outputs": [],
   "source": [
    "test_data=pd.read_csv('test.csv')\n",
    "test=np.array(test_data)"
   ]
  },
  {
   "cell_type": "code",
   "execution_count": 54,
   "metadata": {},
   "outputs": [],
   "source": [
    "dp='Images_test/'\n",
    "def create_data(test):\n",
    "    n=test.shape[0]\n",
    "    x=[]\n",
    "    for i in range(n):\n",
    "        t_img=cv2.imread(dp+test[i][0])\n",
    "        t_img=cv2.resize(t_img,(300,300))\n",
    "        x.append(t_img)\n",
    "    return x"
   ]
  },
  {
   "cell_type": "code",
   "execution_count": 55,
   "metadata": {},
   "outputs": [],
   "source": [
    "x=create_data(test)"
   ]
  },
  {
   "cell_type": "code",
   "execution_count": 56,
   "metadata": {},
   "outputs": [],
   "source": [
    "x=np.array(x)"
   ]
  },
  {
   "cell_type": "code",
   "execution_count": 57,
   "metadata": {},
   "outputs": [
    {
     "data": {
      "text/plain": [
       "(123, 300, 300, 3)"
      ]
     },
     "execution_count": 57,
     "metadata": {},
     "output_type": "execute_result"
    }
   ],
   "source": [
    "x.shape"
   ]
  },
  {
   "cell_type": "code",
   "execution_count": 58,
   "metadata": {},
   "outputs": [],
   "source": [
    "x=x.reshape((x.shape[0],-1))"
   ]
  },
  {
   "cell_type": "code",
   "execution_count": 59,
   "metadata": {},
   "outputs": [
    {
     "data": {
      "text/plain": [
       "(123, 270000)"
      ]
     },
     "execution_count": 59,
     "metadata": {},
     "output_type": "execute_result"
    }
   ],
   "source": [
    "x.shape"
   ]
  },
  {
   "cell_type": "code",
   "execution_count": 60,
   "metadata": {},
   "outputs": [],
   "source": [
    "x=normalize(x)"
   ]
  },
  {
   "cell_type": "code",
   "execution_count": 61,
   "metadata": {},
   "outputs": [
    {
     "name": "stdout",
     "output_type": "stream",
     "text": [
      "[[  1   1   1 ...   1   1   1]\n",
      " [  0   0   0 ...   0   0   0]\n",
      " [  1   1   1 ...   1   1   1]\n",
      " ...\n",
      " [  0   0   0 ...   0   0   0]\n",
      " [255   0 254 ... 255   1   0]\n",
      " [  1   1   1 ...   1   1   1]]\n"
     ]
    }
   ],
   "source": [
    "print(x)"
   ]
  },
  {
   "cell_type": "code",
   "execution_count": 62,
   "metadata": {},
   "outputs": [],
   "source": [
    "lab=svm_classifier.predict(x)"
   ]
  },
  {
   "cell_type": "code",
   "execution_count": 63,
   "metadata": {},
   "outputs": [
    {
     "name": "stdout",
     "output_type": "stream",
     "text": [
      "['Bulbasaur' 'Charmander' 'Bulbasaur' 'Charmander' 'Bulbasaur' 'Bulbasaur'\n",
      " 'Charmander' 'Bulbasaur' 'Bulbasaur' 'Charmander' 'Bulbasaur' 'Bulbasaur'\n",
      " 'Bulbasaur' 'Bulbasaur' 'Charmander' 'Pikachu' 'Charmander' 'Charmander'\n",
      " 'Pikachu' 'Charmander' 'Pikachu' 'Bulbasaur' 'Charmander' 'Bulbasaur'\n",
      " 'Pikachu' 'Charmander' 'Bulbasaur' 'Bulbasaur' 'Pikachu' 'Pikachu'\n",
      " 'Charmander' 'Bulbasaur' 'Charmander' 'Bulbasaur' 'Charmander'\n",
      " 'Bulbasaur' 'Bulbasaur' 'Bulbasaur' 'Charmander' 'Bulbasaur' 'Bulbasaur'\n",
      " 'Charmander' 'Bulbasaur' 'Charmander' 'Charmander' 'Bulbasaur'\n",
      " 'Charmander' 'Bulbasaur' 'Charmander' 'Charmander' 'Bulbasaur'\n",
      " 'Charmander' 'Bulbasaur' 'Bulbasaur' 'Charmander' 'Bulbasaur'\n",
      " 'Charmander' 'Bulbasaur' 'Pikachu' 'Charmander' 'Charmander' 'Pikachu'\n",
      " 'Charmander' 'Charmander' 'Pikachu' 'Bulbasaur' 'Bulbasaur' 'Pikachu'\n",
      " 'Charmander' 'Bulbasaur' 'Pikachu' 'Bulbasaur' 'Bulbasaur' 'Bulbasaur'\n",
      " 'Charmander' 'Charmander' 'Charmander' 'Charmander' 'Bulbasaur'\n",
      " 'Bulbasaur' 'Pikachu' 'Bulbasaur' 'Charmander' 'Bulbasaur' 'Pikachu'\n",
      " 'Bulbasaur' 'Bulbasaur' 'Charmander' 'Charmander' 'Bulbasaur' 'Bulbasaur'\n",
      " 'Charmander' 'Bulbasaur' 'Pikachu' 'Charmander' 'Charmander' 'Charmander'\n",
      " 'Bulbasaur' 'Charmander' 'Charmander' 'Bulbasaur' 'Bulbasaur' 'Bulbasaur'\n",
      " 'Pikachu' 'Charmander' 'Charmander' 'Bulbasaur' 'Pikachu' 'Charmander'\n",
      " 'Bulbasaur' 'Bulbasaur' 'Charmander' 'Charmander' 'Bulbasaur'\n",
      " 'Charmander' 'Pikachu' 'Charmander' 'Pikachu' 'Bulbasaur' 'Bulbasaur'\n",
      " 'Charmander' 'Bulbasaur' 'Bulbasaur']\n"
     ]
    }
   ],
   "source": [
    "print(lab)\n",
    "import csv\n",
    "with open('poke.csv','w',newline='') as csvFile:\n",
    "    writer=csv.writer(csvFile)\n",
    "    n=test.shape[0]\n",
    "    writer.writerow(['ImageId','NameOfPokemon'])\n",
    "    for i in range(n):\n",
    "        l=[test[i][0],lab[i]]\n",
    "        writer.writerow(l)\n",
    "    csvFile.close()"
   ]
  }
 ],
 "metadata": {
  "kernelspec": {
   "display_name": "Python 3",
   "language": "python",
   "name": "python3"
  },
  "language_info": {
   "codemirror_mode": {
    "name": "ipython",
    "version": 3
   },
   "file_extension": ".py",
   "mimetype": "text/x-python",
   "name": "python",
   "nbconvert_exporter": "python",
   "pygments_lexer": "ipython3",
   "version": "3.7.3"
  }
 },
 "nbformat": 4,
 "nbformat_minor": 2
}
